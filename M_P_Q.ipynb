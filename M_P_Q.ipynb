{
  "nbformat": 4,
  "nbformat_minor": 0,
  "metadata": {
    "colab": {
      "provenance": [],
      "toc_visible": true
    },
    "kernelspec": {
      "name": "python3",
      "display_name": "Python 3"
    },
    "language_info": {
      "name": "python"
    }
  },
  "cells": [
    {
      "cell_type": "markdown",
      "source": [
        "Q1: You are working in a bank, and you have been given two lists of the employees who worked in 2021. Employees’ names in list 1 are Ramesh, Suresh, Mahesh, Ali, Jacob, and Saritha. List 2 contains the names of Ali, Mukesh, Mahesh, Jacob, Sai, and Sarita. Please write a program that helps to identify people who are common in both lists. Please do not use any in-built function."
      ],
      "metadata": {
        "id": "bru7I0O0CgE-"
      }
    },
    {
      "cell_type": "code",
      "source": [
        "list1 = [ \"Ramesh\", \"Suresh\", \"Mahesh\", \"Ali\", \"Jacob\",\"Saritha\" ] #Employees name\n",
        "list2 = [ \"Ali\", \"Mukesh\", \"Mahesh\", \"Jacob\", \"Sai\", \"Sarita\" ]\n",
        "s_n=0                   #to give serial numbers\n",
        "count=0                 #count varaible to store number of names repiting\n",
        "for i in list1:\n",
        "  for j in list2:       #for each value of (i),second loop iterate over list2\n",
        "    if i==j:\n",
        "      count += 1\n",
        "      s_n += 1\n",
        "      print(f\"{s_n}.{i}\")\n"
      ],
      "metadata": {
        "colab": {
          "base_uri": "https://localhost:8080/"
        },
        "id": "vh2rFYeFCnGi",
        "outputId": "abb59048-1580-4509-d80c-02c61fb51651"
      },
      "execution_count": null,
      "outputs": [
        {
          "output_type": "stream",
          "name": "stdout",
          "text": [
            "1.Mahesh\n",
            "2.Ali\n",
            "3.Jacob\n"
          ]
        }
      ]
    },
    {
      "cell_type": "markdown",
      "source": [
        "Q2: While entering data, someone entered a few names as a common string “Ramesh Suresh Mohit”. Please write a program which separates all the names and converts them into a list. Once converted into a list, please write a program that adds their age.\n",
        "Ramesh:  25\n",
        "Suresh: 22\n",
        "Mohit: 26"
      ],
      "metadata": {
        "id": "iEXwrTWxCiut"
      }
    },
    {
      "cell_type": "code",
      "source": [
        "string=\"Ramesh Suresh Mohit\"\n",
        "nsep=string.split()\n",
        "nsep\n",
        "l = [25,22,26]\n",
        "\n",
        "for i,j in zip(nsep,l):      #zip() function is used to iterate both list parallely\n",
        "  print(i+\":\",j)\n",
        "\n",
        "\n",
        "\n",
        "\n",
        "\n"
      ],
      "metadata": {
        "colab": {
          "base_uri": "https://localhost:8080/"
        },
        "id": "aDkq9CgD4iwp",
        "outputId": "85ea5b42-9055-4f62-e821-ecfc5626aa91"
      },
      "execution_count": null,
      "outputs": [
        {
          "output_type": "stream",
          "name": "stdout",
          "text": [
            "Ramesh: 25\n",
            "Suresh: 22\n",
            "Mohit: 26\n"
          ]
        }
      ]
    },
    {
      "cell_type": "markdown",
      "source": [
        "Q3:You are working in a medical store. A patient came to your medical store and asked to buy 2 strips of paracetamol, 3 strips of azithromycin, and 5 strips of Vitamin C. One strip of paracetamol costs Rs 35, one strip of azithromycin costs Rs 49, and one strip of vitamin c costs Rs. 33. Patient gave you Rs 2000. Please tell us what is the total cost of each medicine, the total cost of all medicine, and how much money you refunded to the patient.  \n",
        "\n"
      ],
      "metadata": {
        "id": "cOpvhspcHqyo"
      }
    },
    {
      "cell_type": "code",
      "source": [
        "P1=paracetamol_strips= 2*35\n",
        "P2=azithromycin_strips= 3*49\n",
        "P3=vitaminC_strips=   5*33\n",
        "total_bill=P1+P2+P3\n",
        "\n",
        "print(\"Total cost of paracetamol_strips:\",P1,\"\\nTotal cost of azithromycin_strips:\",P2,\"\\nTotal cost of vitaminC_strips:\",P3)\n",
        "print(\"Total cost of medicine:\",total_bill)\n",
        "\n",
        "payment=2000\n",
        "refund=payment-total_bill\n",
        "print(\"Refund amount:\",refund)"
      ],
      "metadata": {
        "colab": {
          "base_uri": "https://localhost:8080/"
        },
        "id": "bSZQhIIl-m9W",
        "outputId": "d3a5ca32-fbf7-4f89-d075-e6faa22488f2"
      },
      "execution_count": null,
      "outputs": [
        {
          "output_type": "stream",
          "name": "stdout",
          "text": [
            "Total cost of paracetamol_strips: 70 \n",
            "Total cost of azithromycin_strips: 147 \n",
            "Total cost of vitaminC_strips: 165\n",
            "Total cost of medicine: 382\n",
            "Refund amount: 1618\n"
          ]
        }
      ]
    },
    {
      "cell_type": "markdown",
      "source": [
        "Q4:Accept a sentence as input and find the number of vowels in it. Assume that the sentence has no punctuation marks. For example, I am learning python contains 6 vowels. This function should be applicable for all other different sentences."
      ],
      "metadata": {
        "id": "_lon0_g_Oayu"
      }
    },
    {
      "cell_type": "code",
      "source": [
        "def sentc(sentence):\n",
        "  count=0\n",
        "  vowels=\"aeiou\"\n",
        "  Vowels='AEIOU'\n",
        "\n",
        "  for i in sentence:\n",
        "    if i in vowels or i in Vowels:      #checking occurence of vowels in given string\n",
        "      count=count+1                     #storing occurence of vowel in varaible count\n",
        "  print(count)\n",
        "\n",
        "sentc(\"I am learning python\")"
      ],
      "metadata": {
        "colab": {
          "base_uri": "https://localhost:8080/"
        },
        "id": "iFuOvmmwObrC",
        "outputId": "0636884f-24d1-4163-d9a5-e9bfa2822e89"
      },
      "execution_count": null,
      "outputs": [
        {
          "output_type": "stream",
          "name": "stdout",
          "text": [
            "6\n"
          ]
        }
      ]
    },
    {
      "cell_type": "markdown",
      "source": [
        "Q5: You have been appointed by the election commission to create a website. Your first task is to work on a program which tells candidates if they are eligible for voting or not. If they are eligible, your output should be ‘Congrats! You are eligible’; otherwise, it should tell that you have to return after X number of years. The eligibility criteria for voting is 18 years.\n",
        "\n",
        "For example, If someone is 18 or above, your output should be ‘Congrats! You are eligible’. If someone’s age is 15 years, it should print output as ‘return after 3 years’."
      ],
      "metadata": {
        "id": "SGDplb0fr9uL"
      }
    },
    {
      "cell_type": "code",
      "source": [
        "age=int(input())\n",
        "eligible_age=18\n",
        "\n",
        "if age>=eligible_age:\n",
        "  print(\"Congrats! You are eligible for voting\")\n",
        "else:\n",
        "  print(f\"You are not eligible for voting.\\nReturn after {eligible_age-age} years.\")\n",
        "\n"
      ],
      "metadata": {
        "colab": {
          "base_uri": "https://localhost:8080/"
        },
        "id": "0SpKpM-br_-t",
        "outputId": "ccee40e4-b897-40ee-ddc9-44bae707b1de"
      },
      "execution_count": null,
      "outputs": [
        {
          "output_type": "stream",
          "name": "stdout",
          "text": [
            "14\n",
            "You are not eligible for voting.\n",
            "Return after 4 years.\n"
          ]
        }
      ]
    },
    {
      "cell_type": "markdown",
      "source": [
        "Q6: Given a list of integers, find the cumulative sum of the elements of the list and store them in another list.\n",
        "A = [1, 2, 3, 4, 5]\n",
        "Output:\n",
        "[1, 3, 6, 10, 15]"
      ],
      "metadata": {
        "id": "aFcUGctduFfZ"
      }
    },
    {
      "cell_type": "code",
      "source": [
        "A = [1, 2, 3, 4, 5]\n",
        "sum=0\n",
        "List=[]\n",
        "for i in A:\n",
        "  sum=sum+i\n",
        "  List.append(sum)\n",
        "print(List)\n"
      ],
      "metadata": {
        "colab": {
          "base_uri": "https://localhost:8080/"
        },
        "id": "-2fkWQ94uICH",
        "outputId": "3907c3aa-881f-4158-9b04-2b94e666449b"
      },
      "execution_count": null,
      "outputs": [
        {
          "output_type": "stream",
          "name": "stdout",
          "text": [
            "[1, 3, 6, 10, 15]\n"
          ]
        }
      ]
    },
    {
      "cell_type": "markdown",
      "source": [
        "Q7:WAP to encode a message entered by user as per below conditions:\n",
        "for every word in the sentence,\n",
        "1. If the word starts with a vowel, encode it as the first and last letter of the word.\n",
        "2. If the word starts with a consonant, remove all vowels from it.\n",
        "Ensure the case insensitive comparisons/checks are performed.\n",
        "Please enter your text:The quick brown fox used to sleep inside this box\n",
        "Encoded Msg: Th qck brwn fx ud t slp ie ths bx"
      ],
      "metadata": {
        "id": "oIuXHwOGyyvZ"
      }
    },
    {
      "cell_type": "code",
      "source": [
        "def message(string):               # user_defined function\n",
        "  vowels=\"AEUOIaeiou\"\n",
        "  words=string.split()\n",
        "  encoded=[]                       #empty list to append the obtain value\n",
        "  for w in words:\n",
        "    if w[0] in vowels:\n",
        "      encoded.append(w[0]+w[-1])\n",
        "    else:\n",
        "      for i in w:\n",
        "        if i[0] not in vowels:\n",
        "          encoded.append(''.join(i))\n",
        "  result=\" \".join((encoded))\n",
        "  print(result)\n",
        "message(\"The quick brown fox used to sleep inside this box \")"
      ],
      "metadata": {
        "colab": {
          "base_uri": "https://localhost:8080/"
        },
        "id": "5PZNC5qquXn0",
        "outputId": "4f119947-ac3e-4fb4-a77a-a234a35b3c5a"
      },
      "execution_count": null,
      "outputs": [
        {
          "output_type": "stream",
          "name": "stdout",
          "text": [
            "T h q c k b r w n f x ud t s l p ie t h s b x\n"
          ]
        }
      ]
    },
    {
      "cell_type": "markdown",
      "source": [
        "Q8:Write a program to implement run length encoding of a string\n",
        "RLE:Consecutive repetition of a character has to be replaced with the count of occurrences and the character\n",
        "Enter your string :aabbbccdddae\n",
        "Encoded: 2a3b2c3d1a1e"
      ],
      "metadata": {
        "id": "EHWxVYZeNWgY"
      }
    },
    {
      "cell_type": "code",
      "source": [
        "def your_string(string):\n",
        "  count=1\n",
        "  char=''\n",
        "  index=0\n",
        "  for i in range(0,len(string)):\n",
        "    if string[i] == string[i -1]:\n",
        "      count=count+1\n",
        "    else:\n",
        "      char += str(count) + string[i]\n",
        "  print(char)\n",
        "\n",
        "your_string(\"aabbbccdddae\")"
      ],
      "metadata": {
        "colab": {
          "base_uri": "https://localhost:8080/"
        },
        "id": "NOlR6mmHumLX",
        "outputId": "b01f2a7e-3e1c-428b-a641-e4188fb0fd8e"
      },
      "execution_count": null,
      "outputs": [
        {
          "output_type": "stream",
          "name": "stdout",
          "text": [
            "1a2b4c5d7a7e\n"
          ]
        }
      ]
    },
    {
      "cell_type": "code",
      "source": [],
      "metadata": {
        "id": "u9I4-Dzjs5b1"
      },
      "execution_count": null,
      "outputs": []
    },
    {
      "cell_type": "code",
      "source": [],
      "metadata": {
        "id": "A4H8sC7ss5h6"
      },
      "execution_count": null,
      "outputs": []
    },
    {
      "cell_type": "code",
      "source": [],
      "metadata": {
        "id": "lB1LjD-xs5qT"
      },
      "execution_count": null,
      "outputs": []
    }
  ]
}